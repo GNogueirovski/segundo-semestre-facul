{
  "cells": [
    {
      "cell_type": "markdown",
      "id": "d6fbaed6",
      "metadata": {
        "id": "d6fbaed6"
      },
      "source": [
        "# Praticando com NumPy\n",
        "\n",
        "Este notebook tem como objetivo praticar operações com **arrays** utilizando a biblioteca **NumPy**."
      ]
    },
    {
      "cell_type": "markdown",
      "id": "1272d0a0",
      "metadata": {
        "id": "1272d0a0"
      },
      "source": [
        "## 1. Importando o NumPy"
      ]
    },
    {
      "cell_type": "code",
      "execution_count": 1,
      "id": "d2f69b6b",
      "metadata": {
        "colab": {
          "base_uri": "https://localhost:8080/"
        },
        "id": "d2f69b6b",
        "outputId": "78a0136f-ac53-4528-e88d-4349a80fd41d"
      },
      "outputs": [
        {
          "output_type": "stream",
          "name": "stdout",
          "text": [
            "2.0.2\n"
          ]
        }
      ],
      "source": [
        "import numpy as np\n",
        "\n",
        "# Verificando versão do NumPy\n",
        "print(np.__version__)"
      ]
    },
    {
      "cell_type": "markdown",
      "id": "13f913b4",
      "metadata": {
        "id": "13f913b4"
      },
      "source": [
        "## 2. Criando Arrays"
      ]
    },
    {
      "cell_type": "code",
      "execution_count": 18,
      "id": "2389d9aa",
      "metadata": {
        "colab": {
          "base_uri": "https://localhost:8080/"
        },
        "id": "2389d9aa",
        "outputId": "1b277c22-1c20-49b9-a126-92a0d46c144d"
      },
      "outputs": [
        {
          "output_type": "stream",
          "name": "stdout",
          "text": [
            "Array criado: [1 2 3 4 5]\n",
            "Zeros: [[0. 0. 0.]\n",
            " [0. 0. 0.]\n",
            " [0. 0. 0.]]\n",
            "Ones: [[1. 1. 1. 1.]\n",
            " [1. 1. 1. 1.]]\n",
            "Arange: [0 2 4 6 8]\n",
            "Linspace: [0.   0.25 0.5  0.75 1.  ]\n",
            "Identidade: [[1. 0. 0. 0.]\n",
            " [0. 1. 0. 0.]\n",
            " [0. 0. 1. 0.]\n",
            " [0. 0. 0. 1.]]\n"
          ]
        }
      ],
      "source": [
        "# Criando arrays a partir de listas\n",
        "lista = [1, 2, 3, 4, 5]\n",
        "arr = np.array(lista)\n",
        "print(\"Array criado:\", arr)\n",
        "\n",
        "# Criando arrays especiais\n",
        "print(\"Zeros:\", np.zeros((3,3)))\n",
        "print(\"Ones:\", np.ones((2,4)))\n",
        "print(\"Arange:\", np.arange(0,10,2))\n",
        "print(\"Linspace:\", np.linspace(0,1,5))\n",
        "print(\"Identidade:\", np.eye(4))"
      ]
    },
    {
      "cell_type": "markdown",
      "id": "b3aa290c",
      "metadata": {
        "id": "b3aa290c"
      },
      "source": [
        "## 3. Operações Matemáticas com Arrays"
      ]
    },
    {
      "cell_type": "code",
      "execution_count": null,
      "id": "42e5bd72",
      "metadata": {
        "id": "42e5bd72"
      },
      "outputs": [],
      "source": [
        "a = np.array([1,2,3])\n",
        "b = np.array([4,5,6])\n",
        "\n",
        "print(\"Soma:\", a + b)\n",
        "print(\"Subtração:\", a - b)\n",
        "print(\"Multiplicação:\", a * b)\n",
        "print(\"Divisão:\", a / b)\n",
        "print(\"Potência:\", a ** 2)"
      ]
    },
    {
      "cell_type": "markdown",
      "id": "376e0cc4",
      "metadata": {
        "id": "376e0cc4"
      },
      "source": [
        "## 4. Indexação e Fatiamento"
      ]
    },
    {
      "cell_type": "code",
      "execution_count": 17,
      "id": "a0f2eaa1",
      "metadata": {
        "colab": {
          "base_uri": "https://localhost:8080/"
        },
        "id": "a0f2eaa1",
        "outputId": "17660612-bfdb-4727-a69a-7f0ed872468d"
      },
      "outputs": [
        {
          "output_type": "stream",
          "name": "stdout",
          "text": [
            "Matriz:\n",
            " [[ 1  2  3  4]\n",
            " [ 5  6  7  8]\n",
            " [ 9 10 11 12]]\n",
            "Elemento [0,0]: 1\n",
            "Primeira linha: [1 2 3 4]\n",
            "Primeira coluna: [1 5 9]\n",
            "Submatriz:\n",
            " [[ 6  7]\n",
            " [10 11]]\n"
          ]
        }
      ],
      "source": [
        "matriz = np.arange(1,13).reshape(3,4)\n",
        "print(\"Matriz:\\n\", matriz)\n",
        "\n",
        "print(\"Elemento [0,0]:\", matriz[0,0])\n",
        "print(\"Primeira linha:\", matriz[0])\n",
        "print(\"Primeira coluna:\", matriz[:,0])\n",
        "print(\"Submatriz:\\n\", matriz[1:,1:3])"
      ]
    },
    {
      "cell_type": "markdown",
      "id": "32ff62da",
      "metadata": {
        "id": "32ff62da"
      },
      "source": [
        "## 5. Propriedades dos Arrays"
      ]
    },
    {
      "cell_type": "code",
      "execution_count": 16,
      "id": "84d556e9",
      "metadata": {
        "colab": {
          "base_uri": "https://localhost:8080/"
        },
        "id": "84d556e9",
        "outputId": "39139450-e4e2-4099-9730-c5bf82104ce8"
      },
      "outputs": [
        {
          "output_type": "stream",
          "name": "stdout",
          "text": [
            "Array:\n",
            " [[ 0  1  2  3]\n",
            " [ 4  5  6  7]\n",
            " [ 8  9 10 11]]\n",
            "Shape: (3, 4)\n",
            "Dimensões: 2\n",
            "Tamanho: 12\n",
            "Tipo de dados: int64\n"
          ]
        }
      ],
      "source": [
        "arr = np.arange(12).reshape(3,4)\n",
        "print(\"Array:\\n\", arr)\n",
        "print(\"Shape:\", arr.shape)\n",
        "print(\"Dimensões:\", arr.ndim)\n",
        "print(\"Tamanho:\", arr.size)\n",
        "print(\"Tipo de dados:\", arr.dtype)"
      ]
    },
    {
      "cell_type": "markdown",
      "id": "bff97e81",
      "metadata": {
        "id": "bff97e81"
      },
      "source": [
        "## 6. Funções Úteis"
      ]
    },
    {
      "cell_type": "code",
      "execution_count": null,
      "id": "a2997cf9",
      "metadata": {
        "id": "a2997cf9"
      },
      "outputs": [],
      "source": [
        "dados = np.random.randint(1,100,20)\n",
        "print(\"Dados:\", dados)\n",
        "print(\"Média:\", np.mean(dados))\n",
        "print(\"Desvio padrão:\", np.std(dados))\n",
        "print(\"Mínimo:\", np.min(dados))\n",
        "print(\"Máximo:\", np.max(dados))\n",
        "print(\"Soma:\", np.sum(dados))\n",
        "print(\"Ordenado:\", np.sort(dados))\n",
        "print(\"Valores únicos:\", np.unique(dados))"
      ]
    },
    {
      "cell_type": "markdown",
      "id": "d7c999cc",
      "metadata": {
        "id": "d7c999cc"
      },
      "source": [
        "## 7. Exercícios Práticos\n",
        "\n",
        "1. Crie uma matriz identidade 5x5.\n",
        "2. Gere 100 números aleatórios entre 0 e 1 e calcule média e desvio padrão.\n",
        "3. Crie uma matriz 10x10 com valores de 1 a 100.\n",
        "4. Substitua todos os números pares dessa matriz por -1.\n",
        "5. Encontre o maior valor e sua posição em uma matriz aleatória 5x5."
      ]
    },
    {
      "cell_type": "code",
      "execution_count": 12,
      "id": "a6a47c76",
      "metadata": {
        "colab": {
          "base_uri": "https://localhost:8080/"
        },
        "id": "a6a47c76",
        "outputId": "a34bd8ee-f90b-47c8-d611-26104ebd4519"
      },
      "outputs": [
        {
          "output_type": "stream",
          "name": "stdout",
          "text": [
            "Matriz:\n",
            " [[1. 0. 0. 0. 0.]\n",
            " [0. 1. 0. 0. 0.]\n",
            " [0. 0. 1. 0. 0.]\n",
            " [0. 0. 0. 1. 0.]\n",
            " [0. 0. 0. 0. 1.]]\n"
          ]
        }
      ],
      "source": [
        "# Exercício 1\n",
        "matriz = np.eye(5)\n",
        "\n",
        "print(\"Matriz:\\n\", matriz)"
      ]
    },
    {
      "cell_type": "code",
      "execution_count": 7,
      "id": "fc7bdce7",
      "metadata": {
        "colab": {
          "base_uri": "https://localhost:8080/"
        },
        "id": "fc7bdce7",
        "outputId": "39562ecd-9782-406c-99be-573a1b7e6811"
      },
      "outputs": [
        {
          "output_type": "stream",
          "name": "stdout",
          "text": [
            "48.21\n",
            "30.405359724890616\n"
          ]
        }
      ],
      "source": [
        "# Exercício 2\n",
        "numeros = np.random.randint(1,101, size=100)\n",
        "\n",
        "# Calculo da média\n",
        "print(np.mean(numeros))\n",
        "\n",
        "# Calculo do Desvio Padrão\n",
        "print(np.std(numeros))"
      ]
    },
    {
      "cell_type": "code",
      "execution_count": 29,
      "id": "4245b77a",
      "metadata": {
        "colab": {
          "base_uri": "https://localhost:8080/"
        },
        "id": "4245b77a",
        "outputId": "abe3f206-afb5-4732-8f78-12f9dcc2e786"
      },
      "outputs": [
        {
          "output_type": "stream",
          "name": "stdout",
          "text": [
            "Matriz:\n",
            " [[  1   2   3   4   5   6   7   8   9  10]\n",
            " [ 11  12  13  14  15  16  17  18  19  20]\n",
            " [ 21  22  23  24  25  26  27  28  29  30]\n",
            " [ 31  32  33  34  35  36  37  38  39  40]\n",
            " [ 41  42  43  44  45  46  47  48  49  50]\n",
            " [ 51  52  53  54  55  56  57  58  59  60]\n",
            " [ 61  62  63  64  65  66  67  68  69  70]\n",
            " [ 71  72  73  74  75  76  77  78  79  80]\n",
            " [ 81  82  83  84  85  86  87  88  89  90]\n",
            " [ 91  92  93  94  95  96  97  98  99 100]]\n"
          ]
        }
      ],
      "source": [
        "# Exercício 3\n",
        "matriz = np.arange(1, 101).reshape(10,10)\n",
        "\n",
        "print(\"Matriz:\\n\", matriz)\n",
        "\n"
      ]
    },
    {
      "cell_type": "code",
      "execution_count": 28,
      "id": "94f66218",
      "metadata": {
        "colab": {
          "base_uri": "https://localhost:8080/"
        },
        "id": "94f66218",
        "outputId": "a903021a-704c-47d9-c0cb-4c155d7c9f51"
      },
      "outputs": [
        {
          "output_type": "stream",
          "name": "stdout",
          "text": [
            "Matriz default:\n",
            " [[  1   2   3   4   5   6   7   8   9  10]\n",
            " [ 11  12  13  14  15  16  17  18  19  20]\n",
            " [ 21  22  23  24  25  26  27  28  29  30]\n",
            " [ 31  32  33  34  35  36  37  38  39  40]\n",
            " [ 41  42  43  44  45  46  47  48  49  50]\n",
            " [ 51  52  53  54  55  56  57  58  59  60]\n",
            " [ 61  62  63  64  65  66  67  68  69  70]\n",
            " [ 71  72  73  74  75  76  77  78  79  80]\n",
            " [ 81  82  83  84  85  86  87  88  89  90]\n",
            " [ 91  92  93  94  95  96  97  98  99 100]]\n",
            "\n",
            "Matriz com -1: \n",
            " [[ 1 -1  3 -1  5 -1  7 -1  9 -1]\n",
            " [11 -1 13 -1 15 -1 17 -1 19 -1]\n",
            " [21 -1 23 -1 25 -1 27 -1 29 -1]\n",
            " [31 -1 33 -1 35 -1 37 -1 39 -1]\n",
            " [41 -1 43 -1 45 -1 47 -1 49 -1]\n",
            " [51 -1 53 -1 55 -1 57 -1 59 -1]\n",
            " [61 -1 63 -1 65 -1 67 -1 69 -1]\n",
            " [71 -1 73 -1 75 -1 77 -1 79 -1]\n",
            " [81 -1 83 -1 85 -1 87 -1 89 -1]\n",
            " [91 -1 93 -1 95 -1 97 -1 99 -1]]\n"
          ]
        }
      ],
      "source": [
        "# Exercício 4\n",
        "matriz = np.arange(1, 101).reshape(10,10)\n",
        "\n",
        "print(\"Matriz default:\\n\", matriz)\n",
        "\n",
        "matriz_nova = np.where((matriz % 2 == 0), -1, matriz)\n",
        "\n",
        "print(\"\\nMatriz com -1: \\n\", matriz_nova)"
      ]
    },
    {
      "cell_type": "code",
      "execution_count": 34,
      "id": "cb81f366",
      "metadata": {
        "colab": {
          "base_uri": "https://localhost:8080/"
        },
        "id": "cb81f366",
        "outputId": "8f445e75-3740-4c23-e73c-424070a8389d"
      },
      "outputs": [
        {
          "output_type": "stream",
          "name": "stdout",
          "text": [
            "Matriz:\n",
            " [[0.32953836 0.17196164 0.52465287 0.29224633 0.9620081 ]\n",
            " [0.58172443 0.70711461 0.61564816 0.66137854 0.61829429]\n",
            " [0.1313704  0.71266895 0.81212203 0.33076038 0.90968796]\n",
            " [0.13062912 0.32338559 0.45493449 0.0453709  0.2511412 ]\n",
            " [0.08084599 0.16383807 0.6802121  0.36011213 0.22921848]]\n",
            "\n",
            "Maior valor da Matriz\n",
            " 0.9620081032812635\n",
            "\n",
            "Indíce do maior valor (linha, coluna)\n",
            " (array([0]), array([4]))\n"
          ]
        }
      ],
      "source": [
        "# Exercício 5\n",
        "matriz = np.random.rand(5,5)\n",
        "\n",
        "print (\"Matriz:\\n\", matriz)\n",
        "\n",
        "print (\"\\nMaior valor da Matriz\\n\", np.max(matriz))\n",
        "print(\"\\nIndíce do maior valor (linha, coluna)\\n\", np.where(matriz == np.max(matriz)))"
      ]
    }
  ],
  "metadata": {
    "colab": {
      "provenance": []
    },
    "language_info": {
      "name": "python"
    },
    "kernelspec": {
      "name": "python3",
      "display_name": "Python 3"
    }
  },
  "nbformat": 4,
  "nbformat_minor": 5
}