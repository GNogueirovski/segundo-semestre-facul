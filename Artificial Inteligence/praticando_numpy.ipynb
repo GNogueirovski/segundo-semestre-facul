{
 "cells": [
  {
   "cell_type": "markdown",
   "id": "d6fbaed6",
   "metadata": {},
   "source": [
    "# Praticando com NumPy\n",
    "\n",
    "Este notebook tem como objetivo praticar operações com **arrays** utilizando a biblioteca **NumPy**."
   ]
  },
  {
   "cell_type": "markdown",
   "id": "1272d0a0",
   "metadata": {},
   "source": [
    "## 1. Importando o NumPy"
   ]
  },
  {
   "cell_type": "code",
   "execution_count": null,
   "id": "d2f69b6b",
   "metadata": {},
   "outputs": [],
   "source": [
    "import numpy as np\n",
    "\n",
    "# Verificando versão do NumPy\n",
    "print(np.__version__)"
   ]
  },
  {
   "cell_type": "markdown",
   "id": "13f913b4",
   "metadata": {},
   "source": [
    "## 2. Criando Arrays"
   ]
  },
  {
   "cell_type": "code",
   "execution_count": null,
   "id": "2389d9aa",
   "metadata": {},
   "outputs": [],
   "source": [
    "# Criando arrays a partir de listas\n",
    "lista = [1, 2, 3, 4, 5]\n",
    "arr = np.array(lista)\n",
    "print(\"Array criado:\", arr)\n",
    "\n",
    "# Criando arrays especiais\n",
    "print(\"Zeros:\", np.zeros((3,3)))\n",
    "print(\"Ones:\", np.ones((2,4)))\n",
    "print(\"Arange:\", np.arange(0,10,2))\n",
    "print(\"Linspace:\", np.linspace(0,1,5))\n",
    "print(\"Identidade:\", np.eye(4))"
   ]
  },
  {
   "cell_type": "markdown",
   "id": "b3aa290c",
   "metadata": {},
   "source": [
    "## 3. Operações Matemáticas com Arrays"
   ]
  },
  {
   "cell_type": "code",
   "execution_count": null,
   "id": "42e5bd72",
   "metadata": {},
   "outputs": [],
   "source": [
    "a = np.array([1,2,3])\n",
    "b = np.array([4,5,6])\n",
    "\n",
    "print(\"Soma:\", a + b)\n",
    "print(\"Subtração:\", a - b)\n",
    "print(\"Multiplicação:\", a * b)\n",
    "print(\"Divisão:\", a / b)\n",
    "print(\"Potência:\", a ** 2)"
   ]
  },
  {
   "cell_type": "markdown",
   "id": "376e0cc4",
   "metadata": {},
   "source": [
    "## 4. Indexação e Fatiamento"
   ]
  },
  {
   "cell_type": "code",
   "execution_count": null,
   "id": "a0f2eaa1",
   "metadata": {},
   "outputs": [],
   "source": [
    "matriz = np.arange(1,13).reshape(3,4)\n",
    "print(\"Matriz:\\n\", matriz)\n",
    "\n",
    "print(\"Elemento [0,0]:\", matriz[0,0])\n",
    "print(\"Primeira linha:\", matriz[0])\n",
    "print(\"Primeira coluna:\", matriz[:,0])\n",
    "print(\"Submatriz:\\n\", matriz[1:,1:3])"
   ]
  },
  {
   "cell_type": "markdown",
   "id": "32ff62da",
   "metadata": {},
   "source": [
    "## 5. Propriedades dos Arrays"
   ]
  },
  {
   "cell_type": "code",
   "execution_count": null,
   "id": "84d556e9",
   "metadata": {},
   "outputs": [],
   "source": [
    "arr = np.arange(12).reshape(3,4)\n",
    "print(\"Array:\\n\", arr)\n",
    "print(\"Shape:\", arr.shape)\n",
    "print(\"Dimensões:\", arr.ndim)\n",
    "print(\"Tamanho:\", arr.size)\n",
    "print(\"Tipo de dados:\", arr.dtype)"
   ]
  },
  {
   "cell_type": "markdown",
   "id": "bff97e81",
   "metadata": {},
   "source": [
    "## 6. Funções Úteis"
   ]
  },
  {
   "cell_type": "code",
   "execution_count": null,
   "id": "a2997cf9",
   "metadata": {},
   "outputs": [],
   "source": [
    "dados = np.random.randint(1,100,20)\n",
    "print(\"Dados:\", dados)\n",
    "print(\"Média:\", np.mean(dados))\n",
    "print(\"Desvio padrão:\", np.std(dados))\n",
    "print(\"Mínimo:\", np.min(dados))\n",
    "print(\"Máximo:\", np.max(dados))\n",
    "print(\"Soma:\", np.sum(dados))\n",
    "print(\"Ordenado:\", np.sort(dados))\n",
    "print(\"Valores únicos:\", np.unique(dados))"
   ]
  },
  {
   "cell_type": "markdown",
   "id": "d7c999cc",
   "metadata": {},
   "source": [
    "## 7. Exercícios Práticos\n",
    "\n",
    "1. Crie uma matriz identidade 5x5.\n",
    "2. Gere 100 números aleatórios entre 0 e 1 e calcule média e desvio padrão.\n",
    "3. Crie uma matriz 10x10 com valores de 1 a 100.\n",
    "4. Substitua todos os números pares dessa matriz por -1.\n",
    "5. Encontre o maior valor e sua posição em uma matriz aleatória 5x5."
   ]
  },
  {
   "cell_type": "code",
   "execution_count": null,
   "id": "a6a47c76",
   "metadata": {},
   "outputs": [],
   "source": [
    "# Exercício 1\n"
   ]
  },
  {
   "cell_type": "code",
   "execution_count": null,
   "id": "fc7bdce7",
   "metadata": {},
   "outputs": [],
   "source": [
    "# Exercício 2\n"
   ]
  },
  {
   "cell_type": "code",
   "execution_count": null,
   "id": "4245b77a",
   "metadata": {},
   "outputs": [],
   "source": [
    "# Exercício 3\n"
   ]
  },
  {
   "cell_type": "code",
   "execution_count": null,
   "id": "94f66218",
   "metadata": {},
   "outputs": [],
   "source": [
    "# Exercício 4\n"
   ]
  },
  {
   "cell_type": "code",
   "execution_count": null,
   "id": "cb81f366",
   "metadata": {},
   "outputs": [],
   "source": [
    "# Exercício 5\n"
   ]
  }
 ],
 "metadata": {},
 "nbformat": 4,
 "nbformat_minor": 5
}
