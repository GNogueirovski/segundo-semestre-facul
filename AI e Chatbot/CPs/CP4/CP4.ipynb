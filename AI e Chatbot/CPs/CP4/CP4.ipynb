{
  "nbformat": 4,
  "nbformat_minor": 0,
  "metadata": {
    "colab": {
      "provenance": [],
      "toc_visible": true
    },
    "kernelspec": {
      "name": "python3",
      "display_name": "Python 3"
    },
    "language_info": {
      "name": "python"
    }
  },
  "cells": [
    {
      "cell_type": "markdown",
      "source": [
        "#CP4"
      ],
      "metadata": {
        "id": "98HFPyxIJ4iZ"
      }
    },
    {
      "cell_type": "markdown",
      "source": [
        "**Análise Exploratória - Locação de Imóveis no Brasil**\n",
        "\n",
        "Nesta prova, você terá a oportunidade de realizar uma análise exploratória detalhada de um dataset que contém informações sobre locação de imóveis em diversas cidades do Brasil. Seu objetivo será explorar a estrutura dos dados, identificar padrões e, principalmente, remover possíveis outliers que possam afetar a integridade da análise.\n",
        "\n",
        "Utilize técnicas de visualização, estatísticas descritivas e o conhecimento adquirido ao longo do curso para realizar essa análise e fornecer insights valiosos sobre o mercado imobiliário.\n",
        "\n",
        "Boa sorte!"
      ],
      "metadata": {
        "id": "c7lQa1wcJ570"
      }
    },
    {
      "cell_type": "markdown",
      "source": [
        "**Descrição Geral:** <br/>\n",
        "\n",
        "O dataset casas_brasil.csv contém 10.692 registros e 13 colunas. Ele inclui informações sobre a cidade, tamanho do imóvel (área), número de quartos, banheiros, vagas de estacionamento, além de dados financeiros como o valor do aluguel, taxa de condomínio (HOA), imposto sobre a propriedade e seguro contra incêndios. A seguir estão as principais colunas e suas descrições:\n",
        "\n",
        "- city: Cidade onde o imóvel está localizado.\n",
        "- area: Tamanho do imóvel em metros quadrados.\n",
        "- rooms: Número de quartos.\n",
        "- bathroom: Número de banheiros.\n",
        "- parking_spaces: Número de vagas de estacionamento.\n",
        "- floor: Andar em que o imóvel está localizado.\n",
        "- animal: Aceitação ou não de animais de estimação (ex.: \"acept\", \"not acept\").\n",
        "- furniture: Informação sobre mobília do imóvel (ex.: \"furnished\", \"not furnished\").\n",
        "- hoa: Valor da taxa de condomínio (em reais).\n",
        "- rent_amount: Valor do aluguel (em reais).\n",
        "- property_tax: Valor do imposto sobre a propriedade (em reais).\n",
        "- fire_insurance: Valor do seguro contra incêndios (em reais).\n",
        "- total: Valor total a ser pago, incluindo aluguel, condomínio, impostos e seguro."
      ],
      "metadata": {
        "id": "TSmERSxiKO0b"
      }
    },
    {
      "cell_type": "markdown",
      "source": [
        "## Análise de Estrutura - *(Peso: 3)*"
      ],
      "metadata": {
        "id": "z3H_EifVEK49"
      }
    },
    {
      "cell_type": "markdown",
      "source": [
        "1 - Faça o import do pandas"
      ],
      "metadata": {
        "id": "Vyi8balR7e0M"
      }
    },
    {
      "cell_type": "code",
      "execution_count": null,
      "metadata": {
        "id": "zVl7rn1264Cy"
      },
      "outputs": [],
      "source": []
    },
    {
      "cell_type": "markdown",
      "source": [
        "2 - Crie um novo dataframe com o .csv casas_brasil.csv e apresente os 5 primeiros e em outro bloco de código os 5 últimos registros"
      ],
      "metadata": {
        "id": "X6LdwTzu7kT0"
      }
    },
    {
      "cell_type": "code",
      "source": [],
      "metadata": {
        "id": "qNQpaKGR7QJM"
      },
      "execution_count": null,
      "outputs": []
    },
    {
      "cell_type": "code",
      "source": [],
      "metadata": {
        "id": "JsstsF1Y8waO"
      },
      "execution_count": null,
      "outputs": []
    },
    {
      "cell_type": "markdown",
      "source": [
        "3 - Existem variáveis faltantes? <br/>\n",
        "***Responda aqui***"
      ],
      "metadata": {
        "id": "KT23M6NC8xGY"
      }
    },
    {
      "cell_type": "code",
      "source": [],
      "metadata": {
        "id": "nGP-O4Po8Twp"
      },
      "execution_count": null,
      "outputs": []
    },
    {
      "cell_type": "markdown",
      "source": [
        "4 - Cite exemplo de variáveis qualitativas (Rótulos ou de Classificação) em nosso dataset."
      ],
      "metadata": {
        "id": "POu-VIEk9JE2"
      }
    },
    {
      "cell_type": "code",
      "source": [],
      "metadata": {
        "id": "qRurL6olDefk"
      },
      "execution_count": null,
      "outputs": []
    },
    {
      "cell_type": "markdown",
      "source": [
        "5 - Cite exemplo de variáveis quantitativas (Valores inteiros ou pontos flutuantes) em nosso dataset."
      ],
      "metadata": {
        "id": "W1UuSCDP9O09"
      }
    },
    {
      "cell_type": "code",
      "source": [],
      "metadata": {
        "id": "_pDFfzYyDfO0"
      },
      "execution_count": null,
      "outputs": []
    },
    {
      "cell_type": "markdown",
      "source": [
        "6 - Utilize uma função embutida do pandas para apresentar o número de casas que temos no dataframe para as top 5 cidades em quantidade?"
      ],
      "metadata": {
        "id": "HzxE5Rkr9cea"
      }
    },
    {
      "cell_type": "code",
      "source": [],
      "metadata": {
        "id": "OWYdThLA9wGS"
      },
      "execution_count": null,
      "outputs": []
    },
    {
      "cell_type": "markdown",
      "source": [
        "7 - Aproveitando a função acima, apresente as top 5 cidades em porcentagem."
      ],
      "metadata": {
        "id": "Ibqz6zcl9ueZ"
      }
    },
    {
      "cell_type": "code",
      "source": [],
      "metadata": {
        "id": "4d5A5cWu91fX"
      },
      "execution_count": null,
      "outputs": []
    },
    {
      "cell_type": "markdown",
      "source": [
        "8 - Crie um novo DataFrame chamado casas_rj_bh selecionando somente os registros onde a cidade é Rio de Janeiro OU Belo Horizonte."
      ],
      "metadata": {
        "id": "bdvcxR-09_Dh"
      }
    },
    {
      "cell_type": "code",
      "source": [],
      "metadata": {
        "id": "mSGf4Gx_DqK4"
      },
      "execution_count": null,
      "outputs": []
    },
    {
      "cell_type": "markdown",
      "source": [
        "## Tratamento de Outliers - *(Peso: 4)*"
      ],
      "metadata": {
        "id": "o-IMBLvcESGx"
      }
    },
    {
      "cell_type": "markdown",
      "source": [
        "9 - Utilizando o dataset principal (primeiro dataframe que você criou, não o casas_rj_bh), análise a média da base e o desvio padrão (std) da nossa variável total. Os valores estão muito distantes?"
      ],
      "metadata": {
        "id": "8oRYXcq2HJKE"
      }
    },
    {
      "cell_type": "markdown",
      "source": [
        "R: ***Responda aqui***"
      ],
      "metadata": {
        "id": "V2HQJJghH_Lj"
      }
    },
    {
      "cell_type": "code",
      "source": [],
      "metadata": {
        "id": "jmTpPfJYHS40"
      },
      "execution_count": null,
      "outputs": []
    },
    {
      "cell_type": "code",
      "source": [],
      "metadata": {
        "id": "RvQgjLqEHIqm"
      },
      "execution_count": null,
      "outputs": []
    },
    {
      "cell_type": "markdown",
      "source": [
        "10 - Utilizando o dataset principal (primeiro dataframe que você criou, não o casas_rj_bh), crie um histograma com o agrupamento de 50 bins para avaliarmos a distribuição da nossa variável total."
      ],
      "metadata": {
        "id": "3x8EBK7O-ba9"
      }
    },
    {
      "cell_type": "code",
      "source": [],
      "metadata": {
        "id": "vv_Aaj4J-uRh"
      },
      "execution_count": null,
      "outputs": []
    },
    {
      "cell_type": "markdown",
      "source": [
        "11 - Utilizando o dataset principal (primeiro dataframe que você criou, não o casas_rj_bh), crie um boxplot para avaliarmos nossas métricas estatísticas."
      ],
      "metadata": {
        "id": "mjKFoiZk-2oI"
      }
    },
    {
      "cell_type": "code",
      "source": [],
      "metadata": {
        "id": "g6Fqb5Qc_DsI"
      },
      "execution_count": null,
      "outputs": []
    },
    {
      "cell_type": "markdown",
      "source": [
        "12 - Existem candidados a outliers nesse dataset analisando a variável total? Explique"
      ],
      "metadata": {
        "id": "3yNPNfsd_MZA"
      }
    },
    {
      "cell_type": "markdown",
      "source": [
        "R: ***Responda aqui***"
      ],
      "metadata": {
        "id": "UcC5Un0X_SCa"
      }
    },
    {
      "cell_type": "code",
      "source": [],
      "metadata": {
        "id": "R5f61CnrG6Rl"
      },
      "execution_count": null,
      "outputs": []
    },
    {
      "cell_type": "markdown",
      "source": [
        "13 - Crie o limite inferior e superior utilizando a técnica do intervalo interquatil, tendo como base a variável total."
      ],
      "metadata": {
        "id": "vNRN5DrW_aBB"
      }
    },
    {
      "cell_type": "code",
      "source": [],
      "metadata": {
        "id": "Pfll_BLM_ZLn"
      },
      "execution_count": null,
      "outputs": []
    },
    {
      "cell_type": "markdown",
      "source": [
        "14 - Crie um novo dataset chamado df_sem_outliers utilizando realizando o filtro de limite inferior e limite superior."
      ],
      "metadata": {
        "id": "xaWT8CXz_tU1"
      }
    },
    {
      "cell_type": "code",
      "source": [],
      "metadata": {
        "id": "ZuNPl8Gm_-ef"
      },
      "execution_count": null,
      "outputs": []
    },
    {
      "cell_type": "markdown",
      "source": [
        "15 - Utilizando o dataset sem outliers, crie um histograma com o agrupamento de 50 bins para avaliarmos a distribuição da nossa variável total."
      ],
      "metadata": {
        "id": "Lu_gBRwN_-xd"
      }
    },
    {
      "cell_type": "code",
      "source": [],
      "metadata": {
        "id": "iqdEugMuAExy"
      },
      "execution_count": null,
      "outputs": []
    },
    {
      "cell_type": "markdown",
      "source": [
        "16 - Utilizando o dataset sem outliers, crie um boxplot para avaliarmos nossas métricas estatísticas."
      ],
      "metadata": {
        "id": "9K8ABsRJAFDT"
      }
    },
    {
      "cell_type": "code",
      "source": [],
      "metadata": {
        "id": "t8CahDlJAKet"
      },
      "execution_count": null,
      "outputs": []
    },
    {
      "cell_type": "markdown",
      "source": [
        "## Medidas de Tendência Central - *(Peso: 3)*"
      ],
      "metadata": {
        "id": "-XZX-AUfEYtV"
      }
    },
    {
      "cell_type": "markdown",
      "source": [
        "17 - Faça um análise de antes e depois com a função que apresenta o std(desvio padrão), média, mediana, q1, q2, q3, min e max do dataset com outliers e sem outliers."
      ],
      "metadata": {
        "id": "H3t-0fKNAK4C"
      }
    },
    {
      "cell_type": "code",
      "source": [],
      "metadata": {
        "id": "1phxfrxHAk8e"
      },
      "execution_count": null,
      "outputs": []
    },
    {
      "cell_type": "code",
      "source": [],
      "metadata": {
        "id": "UytXRAWCAkxf"
      },
      "execution_count": null,
      "outputs": []
    },
    {
      "cell_type": "markdown",
      "source": [
        "18 - Com o dataset que você considera o melhor para avaliar as medidas de tendência central, apresente:"
      ],
      "metadata": {
        "id": "3fjiT3BmAlpg"
      }
    },
    {
      "cell_type": "markdown",
      "source": [
        "Média:"
      ],
      "metadata": {
        "id": "uRqrazB7A7ue"
      }
    },
    {
      "cell_type": "code",
      "source": [],
      "metadata": {
        "id": "nDwpsG3oA8pb"
      },
      "execution_count": null,
      "outputs": []
    },
    {
      "cell_type": "markdown",
      "source": [
        "Mediana:"
      ],
      "metadata": {
        "id": "g27ewgYqA9SY"
      }
    },
    {
      "cell_type": "code",
      "source": [],
      "metadata": {
        "id": "CsZqi5iPA_Fn"
      },
      "execution_count": null,
      "outputs": []
    },
    {
      "cell_type": "markdown",
      "source": [
        "Moda"
      ],
      "metadata": {
        "id": "LYHG_6d0A_3-"
      }
    },
    {
      "cell_type": "code",
      "source": [],
      "metadata": {
        "id": "6JYJUHHDBD6n"
      },
      "execution_count": null,
      "outputs": []
    },
    {
      "cell_type": "markdown",
      "source": [
        "19 - Justifique a escolha do dataset para apresentar as medidas de tendência central."
      ],
      "metadata": {
        "id": "od3xsFGHBCxj"
      }
    },
    {
      "cell_type": "markdown",
      "source": [
        "R:"
      ],
      "metadata": {
        "id": "dyo8P4TKBLuy"
      }
    }
  ]
}